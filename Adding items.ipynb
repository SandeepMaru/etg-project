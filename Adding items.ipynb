{
 "cells": [
  {
   "cell_type": "markdown",
   "metadata": {},
   "source": [
    "### Reading Data from JSON file"
   ]
  },
  {
   "cell_type": "code",
   "execution_count": 11,
   "metadata": {},
   "outputs": [],
   "source": [
    "import json"
   ]
  },
  {
   "cell_type": "code",
   "execution_count": 12,
   "metadata": {},
   "outputs": [],
   "source": [
    "fd = open(\"Record.json\",\"r\")\n",
    "txt = fd.read()\n",
    "fd.close()"
   ]
  },
  {
   "cell_type": "markdown",
   "metadata": {},
   "source": [
    "### Converting str to dict"
   ]
  },
  {
   "cell_type": "code",
   "execution_count": 13,
   "metadata": {},
   "outputs": [],
   "source": [
    "record = json.loads(txt)"
   ]
  },
  {
   "cell_type": "code",
   "execution_count": 14,
   "metadata": {},
   "outputs": [
    {
     "data": {
      "text/plain": [
       "{'1001': {'Prod_Name': 'pencil', 'MRP': 30, 'Qty': 95, 'Exp': '---'},\n",
       " '1002': {'Prod_Name': 'eraser', 'MRP': 24, 'Qty': 95, 'Exp': '---'},\n",
       " '1003': {'Prod_Name': 'scissor', 'MRP': 15, 'Qty': 100, 'Exp': '---'},\n",
       " '1004': {'Prod_Name': 'craft', 'MRP': 12, 'Qty': 100, 'Exp': '---'},\n",
       " '1005': {'Prod_Name': 'pastel', 'MRP': 20, 'Qty': 100, 'Exp': '---'},\n",
       " '1006': {'Prod_Name': 'pen', 'MRP': 30, 'Qty': 100, 'Exp': '---'},\n",
       " '1007': {'Prod_Name': 'whitener', 'MRP': 25, 'Qty': 20, 'Exp': '---'},\n",
       " '1008': {'Prod_Name': 'ink', 'MRP': 90, 'Qty': 200, 'Exp': '---'},\n",
       " '1010': {'Prod_Name': 'sketchpen', 'MRP': 60, 'Qty': 25, 'Exp': '---'},\n",
       " '1011': {'Prod_Name': 'paper', 'MRP': 20, 'Qty': 80, 'Exp': '---'},\n",
       " '1012': {'Prod_Name': 'ribbon', 'MRP': 30, 'Qty': 95, 'Exp': '---'},\n",
       " '1013': {'Prod_Name': 'ruler', 'MRP': 20, 'Qty': 200, 'Exp': '---'},\n",
       " '1014': {'Prod_Name': 'map', 'MRP': 30, 'Qty': 100, 'Exp': '---'},\n",
       " '1015': {'Prod_Name': 'pouch', 'MRP': 50, 'Qty': 50, 'Exp': '---'},\n",
       " '1016': {'Prod_Name': 'compass', 'MRP': 20, 'Qty': 70, 'Exp': '---'},\n",
       " '1017': {'Prod_Name': 'rounder', 'MRP': 4999, 'Qty': 50, 'Exp': '---'},\n",
       " '1018': {'Prod_Name': 'divider', 'MRP': 10, 'Qty': 100, 'Exp': '---'},\n",
       " '1019': {'Prod_Name': 'tscale', 'MRP': 15, 'Qty': 55, 'Exp': '---'},\n",
       " '1020': {'Prod_Name': 'bottle', 'MRP': 20, 'Qty': 25, 'Exp': '---'},\n",
       " '1021': {'Prod_Name': 'spunge', 'MRP': 30, 'Qty': 25, 'Exp': '---'},\n",
       " '1022': {'Prod_Name': 'glitter', 'MRP': 15, 'Qty': 10, 'Exp': '---'},\n",
       " '1023': {'Prod_Name': 'graph', 'MRP': 20, 'Qty': 20, 'Exp': '---'},\n",
       " '1024': {'Prod_Name': 'chart', 'MRP': 22, 'Qty': 25, 'Exp': '---'},\n",
       " '1025': {'Prod_Name': 'marker', 'MRP': 35, 'Qty': 25, 'Exp': '---'},\n",
       " '1026': {'Prod_Name': 'book', 'MRP': 25, 'Qty': 25, 'Exp': '---'},\n",
       " '1027': {'Prod_Name': 'punching', 'MRP': 100, 'Qty': 10, 'Exp': '---'},\n",
       " '1028': {'Prod_Name': 'stappler', 'MRP': 150, 'Qty': 10, 'Exp': '---'},\n",
       " '1029': {'Prod_Name': 'pin', 'MRP': 5, 'Qty': 10, 'Exp': '---'},\n",
       " '1030': {'Prod_Name': 'folder', 'MRP': 90, 'Qty': 25, 'Exp': '---'}}"
      ]
     },
     "execution_count": 14,
     "metadata": {},
     "output_type": "execute_result"
    }
   ],
   "source": [
    "record"
   ]
  },
  {
   "cell_type": "markdown",
   "metadata": {},
   "source": [
    "### Adding new items into store"
   ]
  },
  {
   "cell_type": "code",
   "execution_count": null,
   "metadata": {
    "scrolled": true
   },
   "outputs": [],
   "source": [
    "prod_id = str(input(\"Enter product id: \\n\"))\n",
    "name = str(input(\"Enter product name: \\n\"))\n",
    "price = int(input(\"Enter price: \\n\"))\n",
    "quantity = int(input(\"Enter quantity: \\n\"))\n",
    "exp_date = str(input(\"Enter exp date: \\n\"))\n",
    "\n",
    "record[prod_id] = {\"Prod_Name\":name,\"MRP\":price,\"Qty\":quantity,\"Exp\":exp_date}"
   ]
  },
  {
   "cell_type": "markdown",
   "metadata": {},
   "source": [
    "### Updating added quantity"
   ]
  },
  {
   "cell_type": "code",
   "execution_count": null,
   "metadata": {},
   "outputs": [],
   "source": [
    "def adding_prod(prod):\n",
    "    ui_adding = int(input(\"Adding more items: \\n\"))\n",
    "    record[prod][\"Qty\"] = record[prod][\"Qty\"] + ui_adding"
   ]
  },
  {
   "cell_type": "code",
   "execution_count": null,
   "metadata": {
    "scrolled": true
   },
   "outputs": [],
   "source": [
    "adding_prod(\"1001\")"
   ]
  },
  {
   "cell_type": "markdown",
   "metadata": {},
   "source": [
    "### Converting dict to str"
   ]
  },
  {
   "cell_type": "code",
   "execution_count": 15,
   "metadata": {},
   "outputs": [],
   "source": [
    "jd = json.dumps(record)"
   ]
  },
  {
   "cell_type": "markdown",
   "metadata": {},
   "source": [
    "### Writing new data into JSON file"
   ]
  },
  {
   "cell_type": "code",
   "execution_count": 16,
   "metadata": {},
   "outputs": [],
   "source": [
    "fd = open(\"Record.json\",\"w\")\n",
    "fd.write(jd)\n",
    "fd.close()"
   ]
  }
 ],
 "metadata": {
  "kernelspec": {
   "display_name": "Python 3",
   "language": "python",
   "name": "python3"
  },
  "language_info": {
   "codemirror_mode": {
    "name": "ipython",
    "version": 3
   },
   "file_extension": ".py",
   "mimetype": "text/x-python",
   "name": "python",
   "nbconvert_exporter": "python",
   "pygments_lexer": "ipython3",
   "version": "3.7.6"
  }
 },
 "nbformat": 4,
 "nbformat_minor": 5
}
